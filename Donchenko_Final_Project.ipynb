{
 "cells": [
  {
   "cell_type": "markdown",
   "id": "89260cee-568f-4d49-9ff9-00251780634c",
   "metadata": {},
   "source": [
    "# Real/Fake Job Postings"
   ]
  },
  {
   "cell_type": "markdown",
   "id": "66aa8d7c-b143-4a34-b1bd-4b3207e1e630",
   "metadata": {},
   "source": [
    "https://www.kaggle.com/datasets/shivamb/real-or-fake-fake-jobposting-prediction"
   ]
  },
  {
   "cell_type": "markdown",
   "id": "bd982f39-c188-450c-aca4-113a44362300",
   "metadata": {},
   "source": [
    "For our project we selected a dataset that can be downloaded from Kaggle.com. The dataset contains 18000 job descriptions out of which 800 are fake. The dataset includes both textual and meta information about the jobs. "
   ]
  },
  {
   "cell_type": "code",
   "execution_count": 1,
   "id": "218c7133-db68-4fc9-b263-8c2f67f67fe2",
   "metadata": {},
   "outputs": [],
   "source": [
    "import pandas as pd\n",
    "import numpy as np\n",
    "import seaborn as sns\n",
    "import plotly.express as px\n",
    "import matplotlib.pyplot as plt\n",
    "import re\n",
    "import nltk\n",
    "from nltk.stem import WordNetLemmatizer\n",
    "from sklearn.feature_extraction.text import TfidfVectorizer\n",
    "pd.set_option('display.max_columns', None)\n",
    "pd.set_option('display.max_rows', None)\n",
    "import warnings\n",
    "warnings.filterwarnings('ignore')"
   ]
  },
  {
   "cell_type": "markdown",
   "id": "46f07f42-f9cc-47c5-a5d5-3563176c7c57",
   "metadata": {},
   "source": [
    "We uploaded the libraries and now we'll upload and read the data"
   ]
  },
  {
   "cell_type": "code",
   "execution_count": 2,
   "id": "bc972e5e-8e95-4140-b48f-f6d50a53d0ec",
   "metadata": {},
   "outputs": [
    {
     "data": {
      "text/html": [
       "<div>\n",
       "<style scoped>\n",
       "    .dataframe tbody tr th:only-of-type {\n",
       "        vertical-align: middle;\n",
       "    }\n",
       "\n",
       "    .dataframe tbody tr th {\n",
       "        vertical-align: top;\n",
       "    }\n",
       "\n",
       "    .dataframe thead th {\n",
       "        text-align: right;\n",
       "    }\n",
       "</style>\n",
       "<table border=\"1\" class=\"dataframe\">\n",
       "  <thead>\n",
       "    <tr style=\"text-align: right;\">\n",
       "      <th></th>\n",
       "      <th>job_id</th>\n",
       "      <th>title</th>\n",
       "      <th>location</th>\n",
       "      <th>department</th>\n",
       "      <th>salary_range</th>\n",
       "      <th>company_profile</th>\n",
       "      <th>description</th>\n",
       "      <th>requirements</th>\n",
       "      <th>benefits</th>\n",
       "      <th>telecommuting</th>\n",
       "      <th>has_company_logo</th>\n",
       "      <th>has_questions</th>\n",
       "      <th>employment_type</th>\n",
       "      <th>required_experience</th>\n",
       "      <th>required_education</th>\n",
       "      <th>industry</th>\n",
       "      <th>function</th>\n",
       "      <th>fraudulent</th>\n",
       "    </tr>\n",
       "  </thead>\n",
       "  <tbody>\n",
       "    <tr>\n",
       "      <th>0</th>\n",
       "      <td>1</td>\n",
       "      <td>Marketing Intern</td>\n",
       "      <td>US, NY, New York</td>\n",
       "      <td>Marketing</td>\n",
       "      <td>NaN</td>\n",
       "      <td>We're Food52, and we've created a groundbreaki...</td>\n",
       "      <td>Food52, a fast-growing, James Beard Award-winn...</td>\n",
       "      <td>Experience with content management systems a m...</td>\n",
       "      <td>NaN</td>\n",
       "      <td>0</td>\n",
       "      <td>1</td>\n",
       "      <td>0</td>\n",
       "      <td>Other</td>\n",
       "      <td>Internship</td>\n",
       "      <td>NaN</td>\n",
       "      <td>NaN</td>\n",
       "      <td>Marketing</td>\n",
       "      <td>0</td>\n",
       "    </tr>\n",
       "    <tr>\n",
       "      <th>1</th>\n",
       "      <td>2</td>\n",
       "      <td>Customer Service - Cloud Video Production</td>\n",
       "      <td>NZ, , Auckland</td>\n",
       "      <td>Success</td>\n",
       "      <td>NaN</td>\n",
       "      <td>90 Seconds, the worlds Cloud Video Production ...</td>\n",
       "      <td>Organised - Focused - Vibrant - Awesome!Do you...</td>\n",
       "      <td>What we expect from you:Your key responsibilit...</td>\n",
       "      <td>What you will get from usThrough being part of...</td>\n",
       "      <td>0</td>\n",
       "      <td>1</td>\n",
       "      <td>0</td>\n",
       "      <td>Full-time</td>\n",
       "      <td>Not Applicable</td>\n",
       "      <td>NaN</td>\n",
       "      <td>Marketing and Advertising</td>\n",
       "      <td>Customer Service</td>\n",
       "      <td>0</td>\n",
       "    </tr>\n",
       "    <tr>\n",
       "      <th>2</th>\n",
       "      <td>3</td>\n",
       "      <td>Commissioning Machinery Assistant (CMA)</td>\n",
       "      <td>US, IA, Wever</td>\n",
       "      <td>NaN</td>\n",
       "      <td>NaN</td>\n",
       "      <td>Valor Services provides Workforce Solutions th...</td>\n",
       "      <td>Our client, located in Houston, is actively se...</td>\n",
       "      <td>Implement pre-commissioning and commissioning ...</td>\n",
       "      <td>NaN</td>\n",
       "      <td>0</td>\n",
       "      <td>1</td>\n",
       "      <td>0</td>\n",
       "      <td>NaN</td>\n",
       "      <td>NaN</td>\n",
       "      <td>NaN</td>\n",
       "      <td>NaN</td>\n",
       "      <td>NaN</td>\n",
       "      <td>0</td>\n",
       "    </tr>\n",
       "    <tr>\n",
       "      <th>3</th>\n",
       "      <td>4</td>\n",
       "      <td>Account Executive - Washington DC</td>\n",
       "      <td>US, DC, Washington</td>\n",
       "      <td>Sales</td>\n",
       "      <td>NaN</td>\n",
       "      <td>Our passion for improving quality of life thro...</td>\n",
       "      <td>THE COMPANY: ESRI – Environmental Systems Rese...</td>\n",
       "      <td>EDUCATION: Bachelor’s or Master’s in GIS, busi...</td>\n",
       "      <td>Our culture is anything but corporate—we have ...</td>\n",
       "      <td>0</td>\n",
       "      <td>1</td>\n",
       "      <td>0</td>\n",
       "      <td>Full-time</td>\n",
       "      <td>Mid-Senior level</td>\n",
       "      <td>Bachelor's Degree</td>\n",
       "      <td>Computer Software</td>\n",
       "      <td>Sales</td>\n",
       "      <td>0</td>\n",
       "    </tr>\n",
       "    <tr>\n",
       "      <th>4</th>\n",
       "      <td>5</td>\n",
       "      <td>Bill Review Manager</td>\n",
       "      <td>US, FL, Fort Worth</td>\n",
       "      <td>NaN</td>\n",
       "      <td>NaN</td>\n",
       "      <td>SpotSource Solutions LLC is a Global Human Cap...</td>\n",
       "      <td>JOB TITLE: Itemization Review ManagerLOCATION:...</td>\n",
       "      <td>QUALIFICATIONS:RN license in the State of Texa...</td>\n",
       "      <td>Full Benefits Offered</td>\n",
       "      <td>0</td>\n",
       "      <td>1</td>\n",
       "      <td>1</td>\n",
       "      <td>Full-time</td>\n",
       "      <td>Mid-Senior level</td>\n",
       "      <td>Bachelor's Degree</td>\n",
       "      <td>Hospital &amp; Health Care</td>\n",
       "      <td>Health Care Provider</td>\n",
       "      <td>0</td>\n",
       "    </tr>\n",
       "  </tbody>\n",
       "</table>\n",
       "</div>"
      ],
      "text/plain": [
       "   job_id                                      title            location  \\\n",
       "0       1                           Marketing Intern    US, NY, New York   \n",
       "1       2  Customer Service - Cloud Video Production      NZ, , Auckland   \n",
       "2       3    Commissioning Machinery Assistant (CMA)       US, IA, Wever   \n",
       "3       4          Account Executive - Washington DC  US, DC, Washington   \n",
       "4       5                        Bill Review Manager  US, FL, Fort Worth   \n",
       "\n",
       "  department salary_range                                    company_profile  \\\n",
       "0  Marketing          NaN  We're Food52, and we've created a groundbreaki...   \n",
       "1    Success          NaN  90 Seconds, the worlds Cloud Video Production ...   \n",
       "2        NaN          NaN  Valor Services provides Workforce Solutions th...   \n",
       "3      Sales          NaN  Our passion for improving quality of life thro...   \n",
       "4        NaN          NaN  SpotSource Solutions LLC is a Global Human Cap...   \n",
       "\n",
       "                                         description  \\\n",
       "0  Food52, a fast-growing, James Beard Award-winn...   \n",
       "1  Organised - Focused - Vibrant - Awesome!Do you...   \n",
       "2  Our client, located in Houston, is actively se...   \n",
       "3  THE COMPANY: ESRI – Environmental Systems Rese...   \n",
       "4  JOB TITLE: Itemization Review ManagerLOCATION:...   \n",
       "\n",
       "                                        requirements  \\\n",
       "0  Experience with content management systems a m...   \n",
       "1  What we expect from you:Your key responsibilit...   \n",
       "2  Implement pre-commissioning and commissioning ...   \n",
       "3  EDUCATION: Bachelor’s or Master’s in GIS, busi...   \n",
       "4  QUALIFICATIONS:RN license in the State of Texa...   \n",
       "\n",
       "                                            benefits  telecommuting  \\\n",
       "0                                                NaN              0   \n",
       "1  What you will get from usThrough being part of...              0   \n",
       "2                                                NaN              0   \n",
       "3  Our culture is anything but corporate—we have ...              0   \n",
       "4                              Full Benefits Offered              0   \n",
       "\n",
       "   has_company_logo  has_questions employment_type required_experience  \\\n",
       "0                 1              0           Other          Internship   \n",
       "1                 1              0       Full-time      Not Applicable   \n",
       "2                 1              0             NaN                 NaN   \n",
       "3                 1              0       Full-time    Mid-Senior level   \n",
       "4                 1              1       Full-time    Mid-Senior level   \n",
       "\n",
       "  required_education                   industry              function  \\\n",
       "0                NaN                        NaN             Marketing   \n",
       "1                NaN  Marketing and Advertising      Customer Service   \n",
       "2                NaN                        NaN                   NaN   \n",
       "3  Bachelor's Degree          Computer Software                 Sales   \n",
       "4  Bachelor's Degree     Hospital & Health Care  Health Care Provider   \n",
       "\n",
       "   fraudulent  \n",
       "0           0  \n",
       "1           0  \n",
       "2           0  \n",
       "3           0  \n",
       "4           0  "
      ]
     },
     "execution_count": 2,
     "metadata": {},
     "output_type": "execute_result"
    }
   ],
   "source": [
    "postings = pd.read_csv(r'C:\\Users\\vetal\\Desktop\\Elena\\DS books\\MSDS 422\\Online Retail\\fake_job_postings.csv')\n",
    "postings.head()"
   ]
  },
  {
   "cell_type": "markdown",
   "id": "77c842c2-e328-4022-b870-2d6fa2ad8bd0",
   "metadata": {},
   "source": [
    "We can see that the dataset contains mostly categorical data."
   ]
  },
  {
   "cell_type": "code",
   "execution_count": 3,
   "id": "d67d9978-3b84-412d-984c-aa002faaa749",
   "metadata": {},
   "outputs": [
    {
     "name": "stdout",
     "output_type": "stream",
     "text": [
      "<class 'pandas.core.frame.DataFrame'>\n",
      "RangeIndex: 17880 entries, 0 to 17879\n",
      "Data columns (total 18 columns):\n",
      " #   Column               Non-Null Count  Dtype \n",
      "---  ------               --------------  ----- \n",
      " 0   job_id               17880 non-null  int64 \n",
      " 1   title                17880 non-null  object\n",
      " 2   location             17534 non-null  object\n",
      " 3   department           6333 non-null   object\n",
      " 4   salary_range         2868 non-null   object\n",
      " 5   company_profile      14572 non-null  object\n",
      " 6   description          17879 non-null  object\n",
      " 7   requirements         15184 non-null  object\n",
      " 8   benefits             10668 non-null  object\n",
      " 9   telecommuting        17880 non-null  int64 \n",
      " 10  has_company_logo     17880 non-null  int64 \n",
      " 11  has_questions        17880 non-null  int64 \n",
      " 12  employment_type      14409 non-null  object\n",
      " 13  required_experience  10830 non-null  object\n",
      " 14  required_education   9775 non-null   object\n",
      " 15  industry             12977 non-null  object\n",
      " 16  function             11425 non-null  object\n",
      " 17  fraudulent           17880 non-null  int64 \n",
      "dtypes: int64(5), object(13)\n",
      "memory usage: 2.5+ MB\n"
     ]
    }
   ],
   "source": [
    "postings.info()"
   ]
  },
  {
   "cell_type": "markdown",
   "id": "8b2b453c-a4a3-4e53-8338-4815fe31b07c",
   "metadata": {},
   "source": [
    "We have 18 columns and 17880 entries. Now let's check for NaN values:  "
   ]
  },
  {
   "cell_type": "code",
   "execution_count": 4,
   "id": "87cd3e52-e57a-4c20-bf6f-9fdb644a53d1",
   "metadata": {},
   "outputs": [
    {
     "data": {
      "text/plain": [
       "job_id                     0\n",
       "title                      0\n",
       "location                 346\n",
       "department             11547\n",
       "salary_range           15012\n",
       "company_profile         3308\n",
       "description                1\n",
       "requirements            2696\n",
       "benefits                7212\n",
       "telecommuting              0\n",
       "has_company_logo           0\n",
       "has_questions              0\n",
       "employment_type         3471\n",
       "required_experience     7050\n",
       "required_education      8105\n",
       "industry                4903\n",
       "function                6455\n",
       "fraudulent                 0\n",
       "dtype: int64"
      ]
     },
     "execution_count": 4,
     "metadata": {},
     "output_type": "execute_result"
    }
   ],
   "source": [
    "postings.isna().sum()"
   ]
  },
  {
   "cell_type": "markdown",
   "id": "ce752ca9-3314-46b8-828a-d259ef294128",
   "metadata": {},
   "source": [
    "Most columns contain NaN values. We delete the columns that contain more than 5000 NaN values (more than 30% of total values in the column). We replace NaN values with \"unknown\" in the remaining columns."
   ]
  },
  {
   "cell_type": "code",
   "execution_count": 5,
   "id": "9ba8ccc4-71dc-4ae3-8bab-1ed86093f01d",
   "metadata": {},
   "outputs": [
    {
     "data": {
      "text/html": [
       "<div>\n",
       "<style scoped>\n",
       "    .dataframe tbody tr th:only-of-type {\n",
       "        vertical-align: middle;\n",
       "    }\n",
       "\n",
       "    .dataframe tbody tr th {\n",
       "        vertical-align: top;\n",
       "    }\n",
       "\n",
       "    .dataframe thead th {\n",
       "        text-align: right;\n",
       "    }\n",
       "</style>\n",
       "<table border=\"1\" class=\"dataframe\">\n",
       "  <thead>\n",
       "    <tr style=\"text-align: right;\">\n",
       "      <th></th>\n",
       "      <th>job_id</th>\n",
       "      <th>title</th>\n",
       "      <th>location</th>\n",
       "      <th>company_profile</th>\n",
       "      <th>description</th>\n",
       "      <th>requirements</th>\n",
       "      <th>telecommuting</th>\n",
       "      <th>has_company_logo</th>\n",
       "      <th>has_questions</th>\n",
       "      <th>employment_type</th>\n",
       "      <th>industry</th>\n",
       "      <th>fraudulent</th>\n",
       "    </tr>\n",
       "  </thead>\n",
       "  <tbody>\n",
       "    <tr>\n",
       "      <th>0</th>\n",
       "      <td>1</td>\n",
       "      <td>Marketing Intern</td>\n",
       "      <td>US, NY, New York</td>\n",
       "      <td>We're Food52, and we've created a groundbreaki...</td>\n",
       "      <td>Food52, a fast-growing, James Beard Award-winn...</td>\n",
       "      <td>Experience with content management systems a m...</td>\n",
       "      <td>0</td>\n",
       "      <td>1</td>\n",
       "      <td>0</td>\n",
       "      <td>Other</td>\n",
       "      <td>NaN</td>\n",
       "      <td>0</td>\n",
       "    </tr>\n",
       "    <tr>\n",
       "      <th>1</th>\n",
       "      <td>2</td>\n",
       "      <td>Customer Service - Cloud Video Production</td>\n",
       "      <td>NZ, , Auckland</td>\n",
       "      <td>90 Seconds, the worlds Cloud Video Production ...</td>\n",
       "      <td>Organised - Focused - Vibrant - Awesome!Do you...</td>\n",
       "      <td>What we expect from you:Your key responsibilit...</td>\n",
       "      <td>0</td>\n",
       "      <td>1</td>\n",
       "      <td>0</td>\n",
       "      <td>Full-time</td>\n",
       "      <td>Marketing and Advertising</td>\n",
       "      <td>0</td>\n",
       "    </tr>\n",
       "    <tr>\n",
       "      <th>2</th>\n",
       "      <td>3</td>\n",
       "      <td>Commissioning Machinery Assistant (CMA)</td>\n",
       "      <td>US, IA, Wever</td>\n",
       "      <td>Valor Services provides Workforce Solutions th...</td>\n",
       "      <td>Our client, located in Houston, is actively se...</td>\n",
       "      <td>Implement pre-commissioning and commissioning ...</td>\n",
       "      <td>0</td>\n",
       "      <td>1</td>\n",
       "      <td>0</td>\n",
       "      <td>NaN</td>\n",
       "      <td>NaN</td>\n",
       "      <td>0</td>\n",
       "    </tr>\n",
       "    <tr>\n",
       "      <th>3</th>\n",
       "      <td>4</td>\n",
       "      <td>Account Executive - Washington DC</td>\n",
       "      <td>US, DC, Washington</td>\n",
       "      <td>Our passion for improving quality of life thro...</td>\n",
       "      <td>THE COMPANY: ESRI – Environmental Systems Rese...</td>\n",
       "      <td>EDUCATION: Bachelor’s or Master’s in GIS, busi...</td>\n",
       "      <td>0</td>\n",
       "      <td>1</td>\n",
       "      <td>0</td>\n",
       "      <td>Full-time</td>\n",
       "      <td>Computer Software</td>\n",
       "      <td>0</td>\n",
       "    </tr>\n",
       "    <tr>\n",
       "      <th>4</th>\n",
       "      <td>5</td>\n",
       "      <td>Bill Review Manager</td>\n",
       "      <td>US, FL, Fort Worth</td>\n",
       "      <td>SpotSource Solutions LLC is a Global Human Cap...</td>\n",
       "      <td>JOB TITLE: Itemization Review ManagerLOCATION:...</td>\n",
       "      <td>QUALIFICATIONS:RN license in the State of Texa...</td>\n",
       "      <td>0</td>\n",
       "      <td>1</td>\n",
       "      <td>1</td>\n",
       "      <td>Full-time</td>\n",
       "      <td>Hospital &amp; Health Care</td>\n",
       "      <td>0</td>\n",
       "    </tr>\n",
       "  </tbody>\n",
       "</table>\n",
       "</div>"
      ],
      "text/plain": [
       "   job_id                                      title            location  \\\n",
       "0       1                           Marketing Intern    US, NY, New York   \n",
       "1       2  Customer Service - Cloud Video Production      NZ, , Auckland   \n",
       "2       3    Commissioning Machinery Assistant (CMA)       US, IA, Wever   \n",
       "3       4          Account Executive - Washington DC  US, DC, Washington   \n",
       "4       5                        Bill Review Manager  US, FL, Fort Worth   \n",
       "\n",
       "                                     company_profile  \\\n",
       "0  We're Food52, and we've created a groundbreaki...   \n",
       "1  90 Seconds, the worlds Cloud Video Production ...   \n",
       "2  Valor Services provides Workforce Solutions th...   \n",
       "3  Our passion for improving quality of life thro...   \n",
       "4  SpotSource Solutions LLC is a Global Human Cap...   \n",
       "\n",
       "                                         description  \\\n",
       "0  Food52, a fast-growing, James Beard Award-winn...   \n",
       "1  Organised - Focused - Vibrant - Awesome!Do you...   \n",
       "2  Our client, located in Houston, is actively se...   \n",
       "3  THE COMPANY: ESRI – Environmental Systems Rese...   \n",
       "4  JOB TITLE: Itemization Review ManagerLOCATION:...   \n",
       "\n",
       "                                        requirements  telecommuting  \\\n",
       "0  Experience with content management systems a m...              0   \n",
       "1  What we expect from you:Your key responsibilit...              0   \n",
       "2  Implement pre-commissioning and commissioning ...              0   \n",
       "3  EDUCATION: Bachelor’s or Master’s in GIS, busi...              0   \n",
       "4  QUALIFICATIONS:RN license in the State of Texa...              0   \n",
       "\n",
       "   has_company_logo  has_questions employment_type                   industry  \\\n",
       "0                 1              0           Other                        NaN   \n",
       "1                 1              0       Full-time  Marketing and Advertising   \n",
       "2                 1              0             NaN                        NaN   \n",
       "3                 1              0       Full-time          Computer Software   \n",
       "4                 1              1       Full-time     Hospital & Health Care   \n",
       "\n",
       "   fraudulent  \n",
       "0           0  \n",
       "1           0  \n",
       "2           0  \n",
       "3           0  \n",
       "4           0  "
      ]
     },
     "execution_count": 5,
     "metadata": {},
     "output_type": "execute_result"
    }
   ],
   "source": [
    "columns_dropped = ['salary_range', 'department', 'benefits', 'required_experience', 'function', 'required_education']\n",
    "postings_new = postings.drop(columns_dropped, axis=1)\n",
    "postings_new.head()"
   ]
  },
  {
   "cell_type": "code",
   "execution_count": 6,
   "id": "8bec1a0a-486a-42d8-892e-c94d6ea91710",
   "metadata": {},
   "outputs": [],
   "source": [
    "#postings['description'].replace({\"unknown\":np.nan}, inplace=True)\n",
    "postings_new['description'].fillna(\"unknown\", inplace=True)"
   ]
  },
  {
   "cell_type": "markdown",
   "id": "93271b06-fc64-4229-8928-b72b806e1408",
   "metadata": {},
   "source": [
    "We remove duplicates:"
   ]
  },
  {
   "cell_type": "code",
   "execution_count": 7,
   "id": "3e366205-3a89-46cc-a23b-026403fbcb13",
   "metadata": {},
   "outputs": [],
   "source": [
    "postings_new = postings_new.drop_duplicates()"
   ]
  },
  {
   "cell_type": "markdown",
   "id": "2bd6b027-4bee-418f-a7c3-7057ab9c09be",
   "metadata": {},
   "source": [
    "Let's count the number of values for some columns and display five most popular values for each feature."
   ]
  },
  {
   "cell_type": "code",
   "execution_count": 8,
   "id": "1ee98870-b115-4801-b27c-6e4321d7e7d6",
   "metadata": {},
   "outputs": [
    {
     "name": "stdout",
     "output_type": "stream",
     "text": [
      "title title\n",
      "English Teacher Abroad                                311\n",
      "Customer Service Associate                            146\n",
      "Graduates: English Teacher Abroad (Conversational)    144\n",
      "English Teacher Abroad                                 95\n",
      "Software Engineer                                      86\n",
      "Name: count, dtype: int64\n",
      "location location\n",
      "GB, LND, London          718\n",
      "US, NY, New York         658\n",
      "US, CA, San Francisco    472\n",
      "GR, I, Athens            464\n",
      "US, ,                    339\n",
      "Name: count, dtype: int64\n",
      "telecommuting telecommuting\n",
      "0    17113\n",
      "1      767\n",
      "Name: count, dtype: int64\n",
      "has_company_logo has_company_logo\n",
      "1    14220\n",
      "0     3660\n",
      "Name: count, dtype: int64\n",
      "has_questions has_questions\n",
      "0    9088\n",
      "1    8792\n",
      "Name: count, dtype: int64\n",
      "employment_type employment_type\n",
      "Full-time    11620\n",
      "Contract      1524\n",
      "Part-time      797\n",
      "Temporary      241\n",
      "Other          227\n",
      "Name: count, dtype: int64\n",
      "industry industry\n",
      "Information Technology and Services    1734\n",
      "Computer Software                      1376\n",
      "Internet                               1062\n",
      "Marketing and Advertising               828\n",
      "Education Management                    822\n",
      "Name: count, dtype: int64\n"
     ]
    }
   ],
   "source": [
    "columns = ['title', 'location', 'telecommuting', 'has_company_logo', 'has_questions', 'employment_type', 'industry']\n",
    "for e in columns:\n",
    "    print(e, postings_new[columns][e].value_counts().head())"
   ]
  },
  {
   "cell_type": "markdown",
   "id": "e896365c-3a64-4771-b8ec-adafabbe1170",
   "metadata": {},
   "source": [
    "We will build bar charts to see how popular different employment types and industries."
   ]
  },
  {
   "cell_type": "code",
   "execution_count": 9,
   "id": "bf856a06-ceb3-4057-9f9f-e7261c3b7470",
   "metadata": {},
   "outputs": [
    {
     "data": {
      "image/png": "[encoded data removed]",
      "text/plain": [
       "<Figure size 1800x1200 with 2 Axes>"
      ]
     },
     "metadata": {},
     "output_type": "display_data"
    }
   ],
   "source": [
    "visualize = ['employment_type', 'industry']\n",
    "fig, ax =plt.subplots(2,1, figsize=(18, 12))\n",
    "j=0\n",
    "for col in visualize:\n",
    "    ax_g =ax[j]\n",
    "    chart = sns.countplot(postings_new, x=col, ax=ax_g, order=postings_new[col].value_counts().iloc[:15].index)\n",
    "    chart.set_xticklabels(chart.get_xticklabels(),rotation=90 if j == 1 else 45)\n",
    "    ax_g.set_ylabel(None)\n",
    "    ax_g.set_xlabel(None)\n",
    "    ax_g.set_title(col, fontsize=12)\n",
    "    j+=1\n",
    "fig.show()"
   ]
  },
  {
   "cell_type": "markdown",
   "id": "5acccf71-5b56-41ce-9785-857a3ffab57c",
   "metadata": {},
   "source": [
    "The most valuable data we have is in the form of text. We suppose that description and requirements are the most needed columns. Lets remove stop words, lemmatize remaining words and remove punctuation marks. We'll create vectors for the text in \"description\" and \"requirements\" columns. We'll also create two columns, \"description_length\" and \"requirement_length\" with the number of words in the description and requirement of each job posting."
   ]
  },
  {
   "cell_type": "code",
   "execution_count": 10,
   "id": "d5e62251-a27b-443c-9d6c-0dd82c87204a",
   "metadata": {},
   "outputs": [
    {
     "name": "stderr",
     "output_type": "stream",
     "text": [
      "[nltk_data] Downloading package wordnet to\n",
      "[nltk_data]     C:\\Users\\vetal\\AppData\\Roaming\\nltk_data...\n",
      "[nltk_data]   Package wordnet is already up-to-date!\n",
      "[nltk_data] Downloading package stopwords to\n",
      "[nltk_data]     C:\\Users\\vetal\\AppData\\Roaming\\nltk_data...\n",
      "[nltk_data]   Package stopwords is already up-to-date!\n"
     ]
    },
    {
     "data": {
      "text/plain": [
       "True"
      ]
     },
     "execution_count": 10,
     "metadata": {},
     "output_type": "execute_result"
    }
   ],
   "source": [
    "nltk.download(\"wordnet\")\n",
    "nltk.download('stopwords')"
   ]
  },
  {
   "cell_type": "code",
   "execution_count": 11,
   "id": "54a5008b-ca8a-4208-bc67-d083d2cdc63e",
   "metadata": {},
   "outputs": [],
   "source": [
    "postings_new['description']=postings_new['description'].astype(str)\n",
    "postings_new['requirements']=postings_new['requirements'].astype(str)"
   ]
  },
  {
   "cell_type": "code",
   "execution_count": 14,
   "id": "606c380e-0d5e-409f-93a3-a899753dd713",
   "metadata": {},
   "outputs": [],
   "source": [
    "response = postings_new['description']\n",
    "# Stopword removal, converting uppercase into lower case, and lemmatization\n",
    "stopwords = nltk.corpus.stopwords.words('english')\n",
    "lemmatizer = WordNetLemmatizer()\n",
    "description_without_stopwords = []\n",
    "for i in range(0, len(response)):\n",
    "    doc = re.sub('[^a-zA-Z]', ' ', response[i])\n",
    "    doc = doc.lower()\n",
    "    doc = doc.split()\n",
    "    doc = [lemmatizer.lemmatize(word) for word in doc if not word in set(stopwords)]\n",
    "    doc = ' '.join(doc)\n",
    "    description_without_stopwords.append(doc)\n",
    "postings_new['description_length'] = [len(key.split()) for key in description_without_stopwords]"
   ]
  },
  {
   "cell_type": "markdown",
   "id": "f2a4da25-8554-4822-a734-c807e31abffa",
   "metadata": {},
   "source": [
    "Let's compare how the same description looks before and after processing:"
   ]
  },
  {
   "cell_type": "code",
   "execution_count": 15,
   "id": "aeb72645-e66f-4e06-9662-12abad7b9a7b",
   "metadata": {},
   "outputs": [
    {
     "data": {
      "text/plain": [
       "'Food52, a fast-growing, James Beard Award-winning online food community and crowd-sourced and curated recipe hub, is currently interviewing full- and part-time unpaid interns to work in a small team of editors, executives, and developers in its New York City headquarters.Reproducing and/or repackaging existing Food52 content for a number of partner sites, such as Huffington Post, Yahoo, Buzzfeed, and more in their various content management systemsResearching blogs and websites for the Provisions by Food52 Affiliate ProgramAssisting in day-to-day affiliate program support, such as screening affiliates and assisting in any affiliate inquiriesSupporting with PR &amp; Events when neededHelping with office administrative work, such as filing, mailing, and preparing for meetingsWorking with developers to document bugs and suggest improvements to the siteSupporting the marketing and executive staff'"
      ]
     },
     "execution_count": 15,
     "metadata": {},
     "output_type": "execute_result"
    }
   ],
   "source": [
    "response[0]"
   ]
  },
  {
   "cell_type": "code",
   "execution_count": 16,
   "id": "7e264922-1680-4ac8-a1e9-d1fff449080e",
   "metadata": {},
   "outputs": [
    {
     "data": {
      "text/plain": [
       "'food fast growing james beard award winning online food community crowd sourced curated recipe hub currently interviewing full part time unpaid intern work small team editor executive developer new york city headquarters reproducing repackaging existing food content number partner site huffington post yahoo buzzfeed various content management systemsresearching blog website provision food affiliate programassisting day day affiliate program support screening affiliate assisting affiliate inquiriessupporting pr amp event neededhelping office administrative work filing mailing preparing meetingsworking developer document bug suggest improvement sitesupporting marketing executive staff'"
      ]
     },
     "execution_count": 16,
     "metadata": {},
     "output_type": "execute_result"
    }
   ],
   "source": [
    "description_without_stopwords[0]"
   ]
  },
  {
   "cell_type": "code",
   "execution_count": 17,
   "id": "22e754aa-2907-45f3-8964-f5809b2130b5",
   "metadata": {},
   "outputs": [],
   "source": [
    "response_2 = postings_new['requirements']\n",
    "# Stopword removal, converting uppercase into lower case, and lemmatization\n",
    "stopwords = nltk.corpus.stopwords.words('english')\n",
    "lemmatizer = WordNetLemmatizer()\n",
    "requirement_without_stopwords = []\n",
    "for i in range(0, len(response_2)):\n",
    "    doc = re.sub('[^a-zA-Z]', ' ', response_2[i])\n",
    "    doc = doc.lower()\n",
    "    doc = doc.split()\n",
    "    doc = [lemmatizer.lemmatize(word) for word in doc if not word in set(stopwords)]\n",
    "    doc = ' '.join(doc)\n",
    "    requirement_without_stopwords.append(doc)"
   ]
  },
  {
   "cell_type": "markdown",
   "id": "ca6f9da7-ee09-48eb-9d37-b7ad07b598cc",
   "metadata": {},
   "source": [
    "Now our dataframe looks as follows, vectors are saved separately."
   ]
  },
  {
   "cell_type": "code",
   "execution_count": 18,
   "id": "ab94e5d8-12fd-4bff-9ac6-1dc87128efcc",
   "metadata": {},
   "outputs": [
    {
     "data": {
      "text/html": [
       "<div>\n",
       "<style scoped>\n",
       "    .dataframe tbody tr th:only-of-type {\n",
       "        vertical-align: middle;\n",
       "    }\n",
       "\n",
       "    .dataframe tbody tr th {\n",
       "        vertical-align: top;\n",
       "    }\n",
       "\n",
       "    .dataframe thead th {\n",
       "        text-align: right;\n",
       "    }\n",
       "</style>\n",
       "<table border=\"1\" class=\"dataframe\">\n",
       "  <thead>\n",
       "    <tr style=\"text-align: right;\">\n",
       "      <th></th>\n",
       "      <th>job_id</th>\n",
       "      <th>title</th>\n",
       "      <th>location</th>\n",
       "      <th>company_profile</th>\n",
       "      <th>description</th>\n",
       "      <th>requirements</th>\n",
       "      <th>telecommuting</th>\n",
       "      <th>has_company_logo</th>\n",
       "      <th>has_questions</th>\n",
       "      <th>employment_type</th>\n",
       "      <th>industry</th>\n",
       "      <th>fraudulent</th>\n",
       "      <th>description_length</th>\n",
       "      <th>requirements_length</th>\n",
       "    </tr>\n",
       "  </thead>\n",
       "  <tbody>\n",
       "    <tr>\n",
       "      <th>0</th>\n",
       "      <td>1</td>\n",
       "      <td>Marketing Intern</td>\n",
       "      <td>US, NY, New York</td>\n",
       "      <td>We're Food52, and we've created a groundbreaki...</td>\n",
       "      <td>Food52, a fast-growing, James Beard Award-winn...</td>\n",
       "      <td>Experience with content management systems a m...</td>\n",
       "      <td>0</td>\n",
       "      <td>1</td>\n",
       "      <td>0</td>\n",
       "      <td>Other</td>\n",
       "      <td>NaN</td>\n",
       "      <td>0</td>\n",
       "      <td>84</td>\n",
       "      <td>77</td>\n",
       "    </tr>\n",
       "    <tr>\n",
       "      <th>1</th>\n",
       "      <td>2</td>\n",
       "      <td>Customer Service - Cloud Video Production</td>\n",
       "      <td>NZ, , Auckland</td>\n",
       "      <td>90 Seconds, the worlds Cloud Video Production ...</td>\n",
       "      <td>Organised - Focused - Vibrant - Awesome!Do you...</td>\n",
       "      <td>What we expect from you:Your key responsibilit...</td>\n",
       "      <td>0</td>\n",
       "      <td>1</td>\n",
       "      <td>0</td>\n",
       "      <td>Full-time</td>\n",
       "      <td>Marketing and Advertising</td>\n",
       "      <td>0</td>\n",
       "      <td>206</td>\n",
       "      <td>132</td>\n",
       "    </tr>\n",
       "    <tr>\n",
       "      <th>2</th>\n",
       "      <td>3</td>\n",
       "      <td>Commissioning Machinery Assistant (CMA)</td>\n",
       "      <td>US, IA, Wever</td>\n",
       "      <td>Valor Services provides Workforce Solutions th...</td>\n",
       "      <td>Our client, located in Houston, is actively se...</td>\n",
       "      <td>Implement pre-commissioning and commissioning ...</td>\n",
       "      <td>0</td>\n",
       "      <td>1</td>\n",
       "      <td>0</td>\n",
       "      <td>NaN</td>\n",
       "      <td>NaN</td>\n",
       "      <td>0</td>\n",
       "      <td>30</td>\n",
       "      <td>123</td>\n",
       "    </tr>\n",
       "    <tr>\n",
       "      <th>3</th>\n",
       "      <td>4</td>\n",
       "      <td>Account Executive - Washington DC</td>\n",
       "      <td>US, DC, Washington</td>\n",
       "      <td>Our passion for improving quality of life thro...</td>\n",
       "      <td>THE COMPANY: ESRI – Environmental Systems Rese...</td>\n",
       "      <td>EDUCATION: Bachelor’s or Master’s in GIS, busi...</td>\n",
       "      <td>0</td>\n",
       "      <td>1</td>\n",
       "      <td>0</td>\n",
       "      <td>Full-time</td>\n",
       "      <td>Computer Software</td>\n",
       "      <td>0</td>\n",
       "      <td>225</td>\n",
       "      <td>122</td>\n",
       "    </tr>\n",
       "    <tr>\n",
       "      <th>4</th>\n",
       "      <td>5</td>\n",
       "      <td>Bill Review Manager</td>\n",
       "      <td>US, FL, Fort Worth</td>\n",
       "      <td>SpotSource Solutions LLC is a Global Human Cap...</td>\n",
       "      <td>JOB TITLE: Itemization Review ManagerLOCATION:...</td>\n",
       "      <td>QUALIFICATIONS:RN license in the State of Texa...</td>\n",
       "      <td>0</td>\n",
       "      <td>1</td>\n",
       "      <td>1</td>\n",
       "      <td>Full-time</td>\n",
       "      <td>Hospital &amp; Health Care</td>\n",
       "      <td>0</td>\n",
       "      <td>131</td>\n",
       "      <td>66</td>\n",
       "    </tr>\n",
       "  </tbody>\n",
       "</table>\n",
       "</div>"
      ],
      "text/plain": [
       "   job_id                                      title            location  \\\n",
       "0       1                           Marketing Intern    US, NY, New York   \n",
       "1       2  Customer Service - Cloud Video Production      NZ, , Auckland   \n",
       "2       3    Commissioning Machinery Assistant (CMA)       US, IA, Wever   \n",
       "3       4          Account Executive - Washington DC  US, DC, Washington   \n",
       "4       5                        Bill Review Manager  US, FL, Fort Worth   \n",
       "\n",
       "                                     company_profile  \\\n",
       "0  We're Food52, and we've created a groundbreaki...   \n",
       "1  90 Seconds, the worlds Cloud Video Production ...   \n",
       "2  Valor Services provides Workforce Solutions th...   \n",
       "3  Our passion for improving quality of life thro...   \n",
       "4  SpotSource Solutions LLC is a Global Human Cap...   \n",
       "\n",
       "                                         description  \\\n",
       "0  Food52, a fast-growing, James Beard Award-winn...   \n",
       "1  Organised - Focused - Vibrant - Awesome!Do you...   \n",
       "2  Our client, located in Houston, is actively se...   \n",
       "3  THE COMPANY: ESRI – Environmental Systems Rese...   \n",
       "4  JOB TITLE: Itemization Review ManagerLOCATION:...   \n",
       "\n",
       "                                        requirements  telecommuting  \\\n",
       "0  Experience with content management systems a m...              0   \n",
       "1  What we expect from you:Your key responsibilit...              0   \n",
       "2  Implement pre-commissioning and commissioning ...              0   \n",
       "3  EDUCATION: Bachelor’s or Master’s in GIS, busi...              0   \n",
       "4  QUALIFICATIONS:RN license in the State of Texa...              0   \n",
       "\n",
       "   has_company_logo  has_questions employment_type                   industry  \\\n",
       "0                 1              0           Other                        NaN   \n",
       "1                 1              0       Full-time  Marketing and Advertising   \n",
       "2                 1              0             NaN                        NaN   \n",
       "3                 1              0       Full-time          Computer Software   \n",
       "4                 1              1       Full-time     Hospital & Health Care   \n",
       "\n",
       "   fraudulent  description_length  requirements_length  \n",
       "0           0                  84                   77  \n",
       "1           0                 206                  132  \n",
       "2           0                  30                  123  \n",
       "3           0                 225                  122  \n",
       "4           0                 131                   66  "
      ]
     },
     "execution_count": 18,
     "metadata": {},
     "output_type": "execute_result"
    }
   ],
   "source": [
    "postings_new['requirements_length'] = [len(key.split()) for key in requirement_without_stopwords]\n",
    "postings_new.head()"
   ]
  },
  {
   "cell_type": "code",
   "execution_count": 19,
   "id": "d90c3bf6-fdff-448e-8de8-f72ed30afb45",
   "metadata": {},
   "outputs": [
    {
     "name": "stdout",
     "output_type": "stream",
     "text": [
      "n_samples: 17880, n_features: 54511\n"
     ]
    }
   ],
   "source": [
    "# Import Tfidf vectorizer\n",
    "vectorizer = TfidfVectorizer() \n",
    "description_vectors = vectorizer.fit_transform(description_without_stopwords)\n",
    "# Print how many rows and columns of the TF-IDF matrix consists\n",
    "print(\"n_samples: %d, n_features: %d\" % description_vectors.shape)"
   ]
  },
  {
   "cell_type": "code",
   "execution_count": null,
   "id": "63878048-7baf-4798-9b2c-0a7a29eecf34",
   "metadata": {},
   "outputs": [],
   "source": []
  }
 ],
 "metadata": {
  "kernelspec": {
   "display_name": "Python 3 (ipykernel)",
   "language": "python",
   "name": "python3"
  },
  "language_info": {
   "codemirror_mode": {
    "name": "ipython",
    "version": 3
   },
   "file_extension": ".py",
   "mimetype": "text/x-python",
   "name": "python",
   "nbconvert_exporter": "python",
   "pygments_lexer": "ipython3",
   "version": "3.11.7"
  }
 },
 "nbformat": 4,
 "nbformat_minor": 5
}
